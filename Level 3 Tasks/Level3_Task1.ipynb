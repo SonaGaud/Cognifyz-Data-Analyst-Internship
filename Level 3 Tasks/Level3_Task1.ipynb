{
 "cells": [
  {
   "cell_type": "markdown",
   "id": "95c7d229-f7db-464c-8817-6ec67b966922",
   "metadata": {},
   "source": [
    "                                               Level 3 - Task 1: Restaurant Reviews\n",
    "                                 Importing required Modules for Data Manipulation, Cleaning & Analysis"
   ]
  },
  {
   "cell_type": "code",
   "execution_count": 2,
   "id": "0bb0a34a-9450-4c82-9f88-4c2bdb9cf794",
   "metadata": {},
   "outputs": [
    {
     "name": "stdout",
     "output_type": "stream",
     "text": [
      "Imported Successfully\n"
     ]
    }
   ],
   "source": [
    "import pandas as pd\n",
    "import matplotlib.pyplot as plt\n",
    "\n",
    "print(\"Imported Successfully\")"
   ]
  },
  {
   "cell_type": "code",
   "execution_count": 3,
   "id": "49e50bc8-ba44-477c-9efc-14a1104dd46c",
   "metadata": {},
   "outputs": [
    {
     "name": "stdout",
     "output_type": "stream",
     "text": [
      "Index(['Restaurant ID', 'Restaurant Name', 'Country Code', 'City', 'Address',\n",
      "       'Locality', 'Locality Verbose', 'Longitude', 'Latitude', 'Cuisines',\n",
      "       'Average Cost for two', 'Currency', 'Has Table booking',\n",
      "       'Has Online delivery', 'Is delivering now', 'Switch to order menu',\n",
      "       'Price range', 'Aggregate rating', 'Rating color', 'Rating text',\n",
      "       'Votes'],\n",
      "      dtype='object')\n"
     ]
    }
   ],
   "source": [
    "# Loading data from dataset\n",
    "data = pd.read_csv('Dataset.csv')\n",
    "\n",
    "# columns present in dataset\n",
    "print(data.columns)"
   ]
  },
  {
   "cell_type": "code",
   "execution_count": 4,
   "id": "165abd60-6792-45c8-801b-a2bca66a7235",
   "metadata": {},
   "outputs": [
    {
     "data": {
      "text/plain": [
       "0       Excellent\n",
       "1       Excellent\n",
       "2       Very Good\n",
       "3       Excellent\n",
       "4       Excellent\n",
       "          ...    \n",
       "9546    Very Good\n",
       "9547    Very Good\n",
       "9548         Good\n",
       "9549    Very Good\n",
       "9550    Very Good\n",
       "Name: Rating text, Length: 9551, dtype: object"
      ]
     },
     "execution_count": 4,
     "metadata": {},
     "output_type": "execute_result"
    }
   ],
   "source": [
    "ratings = data['Rating text']\n",
    "ratings "
   ]
  },
  {
   "cell_type": "code",
   "execution_count": 5,
   "id": "4429c119-3126-43c0-bf97-149c35e03841",
   "metadata": {},
   "outputs": [
    {
     "name": "stdout",
     "output_type": "stream",
     "text": [
      "      Restaurant ID           Restaurant Name  Country Code              City  \\\n",
      "0           6317637          Le Petit Souffle           162       Makati City   \n",
      "1           6304287          Izakaya Kikufuji           162       Makati City   \n",
      "2           6300002    Heat - Edsa Shangri-La           162  Mandaluyong City   \n",
      "3           6318506                      Ooma           162  Mandaluyong City   \n",
      "4           6314302               Sambo Kojin           162  Mandaluyong City   \n",
      "...             ...                       ...           ...               ...   \n",
      "9546        5915730               Naml۱ Gurme           208         ��stanbul   \n",
      "9547        5908749              Ceviz A��ac۱           208         ��stanbul   \n",
      "9548        5915807                     Huqqa           208         ��stanbul   \n",
      "9549        5916112               A���k Kahve           208         ��stanbul   \n",
      "9550        5927402  Walter's Coffee Roastery           208         ��stanbul   \n",
      "\n",
      "                                                Address  \\\n",
      "0     Third Floor, Century City Mall, Kalayaan Avenu...   \n",
      "1     Little Tokyo, 2277 Chino Roces Avenue, Legaspi...   \n",
      "2     Edsa Shangri-La, 1 Garden Way, Ortigas, Mandal...   \n",
      "3     Third Floor, Mega Fashion Hall, SM Megamall, O...   \n",
      "4     Third Floor, Mega Atrium, SM Megamall, Ortigas...   \n",
      "...                                                 ...   \n",
      "9546  Kemanke�� Karamustafa Pa��a Mahallesi, R۱ht۱m ...   \n",
      "9547  Ko��uyolu Mahallesi, Muhittin ��st�_nda�� Cadd...   \n",
      "9548  Kuru�_e��me Mahallesi, Muallim Naci Caddesi, N...   \n",
      "9549  Kuru�_e��me Mahallesi, Muallim Naci Caddesi, N...   \n",
      "9550  Cafea��a Mahallesi, Bademalt۱ Sokak, No 21/B, ...   \n",
      "\n",
      "                                        Locality  \\\n",
      "0      Century City Mall, Poblacion, Makati City   \n",
      "1     Little Tokyo, Legaspi Village, Makati City   \n",
      "2     Edsa Shangri-La, Ortigas, Mandaluyong City   \n",
      "3         SM Megamall, Ortigas, Mandaluyong City   \n",
      "4         SM Megamall, Ortigas, Mandaluyong City   \n",
      "...                                          ...   \n",
      "9546                                    Karak�_y   \n",
      "9547                                   Ko��uyolu   \n",
      "9548                                 Kuru�_e��me   \n",
      "9549                                 Kuru�_e��me   \n",
      "9550                                        Moda   \n",
      "\n",
      "                                       Locality Verbose   Longitude  \\\n",
      "0     Century City Mall, Poblacion, Makati City, Mak...  121.027535   \n",
      "1     Little Tokyo, Legaspi Village, Makati City, Ma...  121.014101   \n",
      "2     Edsa Shangri-La, Ortigas, Mandaluyong City, Ma...  121.056831   \n",
      "3     SM Megamall, Ortigas, Mandaluyong City, Mandal...  121.056475   \n",
      "4     SM Megamall, Ortigas, Mandaluyong City, Mandal...  121.057508   \n",
      "...                                                 ...         ...   \n",
      "9546                                Karak�_y, ��stanbul   28.977392   \n",
      "9547                               Ko��uyolu, ��stanbul   29.041297   \n",
      "9548                             Kuru�_e��me, ��stanbul   29.034640   \n",
      "9549                             Kuru�_e��me, ��stanbul   29.036019   \n",
      "9550                                    Moda, ��stanbul   29.026016   \n",
      "\n",
      "       Latitude                          Cuisines  ...          Currency  \\\n",
      "0     14.565443        French, Japanese, Desserts  ...  Botswana Pula(P)   \n",
      "1     14.553708                          Japanese  ...  Botswana Pula(P)   \n",
      "2     14.581404  Seafood, Asian, Filipino, Indian  ...  Botswana Pula(P)   \n",
      "3     14.585318                   Japanese, Sushi  ...  Botswana Pula(P)   \n",
      "4     14.584450                  Japanese, Korean  ...  Botswana Pula(P)   \n",
      "...         ...                               ...  ...               ...   \n",
      "9546  41.022793                           Turkish  ...  Turkish Lira(TL)   \n",
      "9547  41.009847   World Cuisine, Patisserie, Cafe  ...  Turkish Lira(TL)   \n",
      "9548  41.055817            Italian, World Cuisine  ...  Turkish Lira(TL)   \n",
      "9549  41.057979                   Restaurant Cafe  ...  Turkish Lira(TL)   \n",
      "9550  40.984776                              Cafe  ...  Turkish Lira(TL)   \n",
      "\n",
      "     Has Table booking Has Online delivery Is delivering now  \\\n",
      "0                  Yes                  No                No   \n",
      "1                  Yes                  No                No   \n",
      "2                  Yes                  No                No   \n",
      "3                   No                  No                No   \n",
      "4                  Yes                  No                No   \n",
      "...                ...                 ...               ...   \n",
      "9546                No                  No                No   \n",
      "9547                No                  No                No   \n",
      "9548                No                  No                No   \n",
      "9549                No                  No                No   \n",
      "9550                No                  No                No   \n",
      "\n",
      "     Switch to order menu Price range  Aggregate rating  Rating color  \\\n",
      "0                      No           3               4.8    Dark Green   \n",
      "1                      No           3               4.5    Dark Green   \n",
      "2                      No           4               4.4         Green   \n",
      "3                      No           4               4.9    Dark Green   \n",
      "4                      No           4               4.8    Dark Green   \n",
      "...                   ...         ...               ...           ...   \n",
      "9546                   No           3               4.1         Green   \n",
      "9547                   No           3               4.2         Green   \n",
      "9548                   No           4               3.7        Yellow   \n",
      "9549                   No           4               4.0         Green   \n",
      "9550                   No           2               4.0         Green   \n",
      "\n",
      "     Rating text Votes  \n",
      "0      Excellent   314  \n",
      "1      Excellent   591  \n",
      "2      Very Good   270  \n",
      "3      Excellent   365  \n",
      "4      Excellent   229  \n",
      "...          ...   ...  \n",
      "9546   Very Good   788  \n",
      "9547   Very Good  1034  \n",
      "9548        Good   661  \n",
      "9549   Very Good   901  \n",
      "9550   Very Good   591  \n",
      "\n",
      "[7217 rows x 21 columns]\n",
      "['Excellent' 'Very Good' 'Good' 'Average']\n"
     ]
    }
   ],
   "source": [
    "                   # Question 1 - Analyze the text reviews to identify the most common positive and negative keywords.\n",
    "good_reviews = data.loc[data['Aggregate rating'] >= 2.5]\n",
    "print(good_reviews)\n",
    "\n",
    "good_rating = good_reviews['Rating text'].unique()\n",
    "print(good_rating)"
   ]
  },
  {
   "cell_type": "code",
   "execution_count": 6,
   "id": "1959edd5-b59e-401f-b988-fd577f21eba6",
   "metadata": {},
   "outputs": [
    {
     "data": {
      "image/png": "[encoded data removed]",
      "text/plain": [
       "<Figure size 600x400 with 1 Axes>"
      ]
     },
     "metadata": {},
     "output_type": "display_data"
    }
   ],
   "source": [
    "plt.figure(figsize = (6, 4))\n",
    "plt.title(\"Reviews\")\n",
    "plt.xlabel(\"Review Text\")\n",
    "plt.ylabel(\"Counts\")\n",
    "plt.hist(good_reviews['Rating text'], label = 'Good Ratings', color = 'orange', edgecolor = 'red')\n",
    "plt.show()"
   ]
  },
  {
   "cell_type": "code",
   "execution_count": 7,
   "id": "aa7f7594-10e4-4e22-a012-605e86ef13c2",
   "metadata": {},
   "outputs": [
    {
     "name": "stdout",
     "output_type": "stream",
     "text": [
      "      Restaurant ID                  Restaurant Name  Country Code  \\\n",
      "312        17374978                     Troll Tavern           216   \n",
      "344        17482142              Triangle Restaurant           216   \n",
      "348        16613059                       Poets Cafe            14   \n",
      "613         5600961                        Pizza Hut           214   \n",
      "890          311051                              KFC             1   \n",
      "...             ...                              ...           ...   \n",
      "9104           2979                          Chopaal             1   \n",
      "9105           3237                    Club Ice Cube             1   \n",
      "9106           2025  Moti Mahal Delux Tandoori Trail             1   \n",
      "9306        7001208     De Fontein Belgian Beer Cafe           148   \n",
      "9498        5800634          Elite Indian Restaurant           191   \n",
      "\n",
      "             City                                            Address  \\\n",
      "312   Gainesville              8590 N Main St Ste B, Helen, GA 30545   \n",
      "344     Mc Millan           21053 State Hwy M28, Mc Millan, MI 49853   \n",
      "348     Montville                        167 Main St, Montville, QLD   \n",
      "613       Sharjah             Next to Safeer Mall, Al Nahda, Sharjah   \n",
      "890     Faridabad  Shops 21-22, 2nd Floor, Crown Interiorz Mall, ...   \n",
      "...           ...                                                ...   \n",
      "9104        Noida  A-2, 3rd Floor, The Great India Place Mall, Se...   \n",
      "9105        Noida  313, 3rd Floor, The Great India Place Mall, Se...   \n",
      "9106        Noida  Food Court, The Great India Place Mall, Sector...   \n",
      "9306     Auckland          75-79 Tamaki Drive, Mission Bay, Auckland   \n",
      "9498      Colombo   124, New Bullers Road, Bambalapitiya, Colombo 04   \n",
      "\n",
      "                                        Locality  \\\n",
      "312                                        Helen   \n",
      "344                                    Mc Millan   \n",
      "348                                    Montville   \n",
      "613                                     Al Nahda   \n",
      "890   Crown Interiorz Mall, Sector 35, Faridabad   \n",
      "...                                          ...   \n",
      "9104            The Great India Place, Sector 38   \n",
      "9105            The Great India Place, Sector 38   \n",
      "9106            The Great India Place, Sector 38   \n",
      "9306                                 Mission Bay   \n",
      "9498                   Bambalapitiya, Colombo 04   \n",
      "\n",
      "                                       Locality Verbose   Longitude  \\\n",
      "312                                  Helen, Gainesville  -83.733400   \n",
      "344                                Mc Millan, Mc Millan  -85.736300   \n",
      "348                                Montville, Montville  152.893735   \n",
      "613                                   Al Nahda, Sharjah   55.374543   \n",
      "890   Crown Interiorz Mall, Sector 35, Faridabad, Fa...   77.307060   \n",
      "...                                                 ...         ...   \n",
      "9104            The Great India Place, Sector 38, Noida   77.325308   \n",
      "9105            The Great India Place, Sector 38, Noida   77.326475   \n",
      "9106            The Great India Place, Sector 38, Noida   77.325445   \n",
      "9306                              Mission Bay, Auckland  174.832089   \n",
      "9498                 Bambalapitiya, Colombo 04, Colombo   79.857830   \n",
      "\n",
      "       Latitude                                        Cuisines  ...  \\\n",
      "312   34.702100                        Burger, German, Sandwich  ...   \n",
      "344   46.371800                               Breakfast, Burger  ...   \n",
      "348  -26.690462               Coffee and Tea, Modern Australian  ...   \n",
      "613   25.305640                                Fast Food, Pizza  ...   \n",
      "890   28.469807                     American, Fast Food, Burger  ...   \n",
      "...         ...                                             ...  ...   \n",
      "9104  28.567150  Chinese, North Indian, South Indian, Fast Food  ...   \n",
      "9105  28.568067              North Indian, Continental, Chinese  ...   \n",
      "9106  28.567040                           North Indian, Mughlai  ...   \n",
      "9306 -36.848315                                        European  ...   \n",
      "9498   6.896084               North Indian, Chinese, Sri Lankan  ...   \n",
      "\n",
      "                   Currency Has Table booking Has Online delivery  \\\n",
      "312               Dollar($)                No                  No   \n",
      "344               Dollar($)                No                  No   \n",
      "348               Dollar($)                No                  No   \n",
      "613      Emirati Diram(AED)                No                  No   \n",
      "890      Indian Rupees(Rs.)                No                 Yes   \n",
      "...                     ...               ...                 ...   \n",
      "9104     Indian Rupees(Rs.)                No                  No   \n",
      "9105     Indian Rupees(Rs.)               Yes                  No   \n",
      "9106     Indian Rupees(Rs.)               Yes                 Yes   \n",
      "9306          NewZealand($)                No                  No   \n",
      "9498  Sri Lankan Rupee(LKR)                No                  No   \n",
      "\n",
      "     Is delivering now Switch to order menu Price range  Aggregate rating  \\\n",
      "312                 No                   No           2               2.2   \n",
      "344                 No                   No           1               2.4   \n",
      "348                 No                   No           3               2.4   \n",
      "613                 No                   No           3               2.4   \n",
      "890                 No                   No           2               2.1   \n",
      "...                ...                  ...         ...               ...   \n",
      "9104                No                   No           1               2.0   \n",
      "9105                No                   No           4               2.0   \n",
      "9106                No                   No           3               2.0   \n",
      "9306                No                   No           4               2.3   \n",
      "9498                No                   No           2               2.4   \n",
      "\n",
      "      Rating color Rating text Votes  \n",
      "312            Red        Poor   108  \n",
      "344            Red        Poor    17  \n",
      "348            Red        Poor   193  \n",
      "613            Red        Poor   154  \n",
      "890            Red        Poor    57  \n",
      "...            ...         ...   ...  \n",
      "9104           Red        Poor   161  \n",
      "9105           Red        Poor   230  \n",
      "9106           Red        Poor   108  \n",
      "9306           Red        Poor   402  \n",
      "9498           Red        Poor   240  \n",
      "\n",
      "[186 rows x 21 columns]\n",
      " ['Poor']\n"
     ]
    }
   ],
   "source": [
    "bad_reviews = data.loc[(data['Aggregate rating'] < 2.5) & (data['Aggregate rating'] > 0)]\n",
    "print(bad_reviews)\n",
    "\n",
    "bad_rating = bad_reviews['Rating text'].unique()\n",
    "print(\"\", bad_rating)"
   ]
  },
  {
   "cell_type": "code",
   "execution_count": 12,
   "id": "9af3ee7a-4060-4738-aadf-d1cc83857cf1",
   "metadata": {},
   "outputs": [
    {
     "data": {
      "image/png": "[encoded data removed]",
      "text/plain": [
       "<Figure size 600x400 with 1 Axes>"
      ]
     },
     "metadata": {},
     "output_type": "display_data"
    }
   ],
   "source": [
    "plt.figure(figsize = (6, 4))\n",
    "plt.title(\"Reviews\")\n",
    "plt.xlabel(\"Review Text\")\n",
    "plt.ylabel(\"Counts\")\n",
    "plt.hist(bad_reviews['Rating text'], label = 'Bad Ratings', color = 'lightpink', edgecolor = 'blue')\n",
    "plt.show()"
   ]
  },
  {
   "cell_type": "code",
   "execution_count": 21,
   "id": "e975cd2d-3184-465b-bbe7-d484c5de1c68",
   "metadata": {},
   "outputs": [
    {
     "name": "stdout",
     "output_type": "stream",
     "text": [
      "Average review length: 7.02 characters\n"
     ]
    },
    {
     "data": {
      "image/png": "[encoded data removed]",
      "text/plain": [
       "<Figure size 640x480 with 1 Axes>"
      ]
     },
     "metadata": {},
     "output_type": "display_data"
    },
    {
     "name": "stdout",
     "output_type": "stream",
     "text": [
      "Correlation between review length and rating: -0.48\n"
     ]
    }
   ],
   "source": [
    "# Question 2 - Calculate the average length of reviews and explore if there is a relationship between review length and rating.\n",
    "\n",
    "# Step 1: Calculate the length of each review\n",
    "data['Review Length'] = data['Rating text'].apply(len)\n",
    "\n",
    "# Step 2: Calculate the average length of reviews\n",
    "average_review_length = data['Review Length'].mean()\n",
    "print(f\"Average review length: {average_review_length:.2f} characters\")\n",
    "\n",
    "# Step 3: Explore the relationship between review length and rating\n",
    "plt.scatter(data['Review Length'], data['Aggregate rating'], alpha=0.7)\n",
    "plt.title('Review Length vs Rating')\n",
    "plt.xlabel('Review Length (characters)')\n",
    "plt.ylabel('Aggregate rating')\n",
    "plt.grid(True)\n",
    "plt.show()\n",
    "\n",
    "# corelation between review length and rating\n",
    "correlation = data['Review Length'].corr(data['Aggregate rating'])\n",
    "print(f\"Correlation between review length and rating: {correlation:.2f}\")"
   ]
  }
 ],
 "metadata": {
  "kernelspec": {
   "display_name": "Python 3 (ipykernel)",
   "language": "python",
   "name": "python3"
  },
  "language_info": {
   "codemirror_mode": {
    "name": "ipython",
    "version": 3
   },
   "file_extension": ".py",
   "mimetype": "text/x-python",
   "name": "python",
   "nbconvert_exporter": "python",
   "pygments_lexer": "ipython3",
   "version": "3.11.4"
  }
 },
 "nbformat": 4,
 "nbformat_minor": 5
}
