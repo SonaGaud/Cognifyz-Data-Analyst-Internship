{
 "cells": [
  {
   "cell_type": "raw",
   "id": "6aeeffaf-ec01-40bf-bfac-400b211f191e",
   "metadata": {},
   "source": [
    "                                                      Level 2 - Task 1: Restaurant Ratings\n",
    "                                     Importing required Modules for Data Manipulation, Cleaning & Analysis"
   ]
  },
  {
   "cell_type": "code",
   "execution_count": 2,
   "id": "78e1c8df-bd76-449a-b4e3-46cac126bb0a",
   "metadata": {},
   "outputs": [
    {
     "name": "stdout",
     "output_type": "stream",
     "text": [
      "Imported Successfully\n"
     ]
    }
   ],
   "source": [
    "import pandas as pd\n",
    "import numpy as np\n",
    "import matplotlib.pyplot as plt\n",
    "import seaborn as sea\n",
    "\n",
    "print(\"Imported Successfully\")"
   ]
  },
  {
   "cell_type": "code",
   "execution_count": 3,
   "id": "1898ec3c-eeb9-41c2-b98a-3ce738373a10",
   "metadata": {},
   "outputs": [
    {
     "name": "stdout",
     "output_type": "stream",
     "text": [
      "Index(['Restaurant ID', 'Restaurant Name', 'Country Code', 'City', 'Address',\n",
      "       'Locality', 'Locality Verbose', 'Longitude', 'Latitude', 'Cuisines',\n",
      "       'Average Cost for two', 'Currency', 'Has Table booking',\n",
      "       'Has Online delivery', 'Is delivering now', 'Switch to order menu',\n",
      "       'Price range', 'Aggregate rating', 'Rating color', 'Rating text',\n",
      "       'Votes'],\n",
      "      dtype='object')\n"
     ]
    }
   ],
   "source": [
    "# Loading data from dataset\n",
    "data = pd.read_csv('Dataset.csv')\n",
    "\n",
    "# columns present in dataset\n",
    "print(data.columns)"
   ]
  },
  {
   "cell_type": "code",
   "execution_count": 46,
   "id": "d4e2eab2-f71e-4b87-ac23-e5527e926cc9",
   "metadata": {},
   "outputs": [
    {
     "name": "stdout",
     "output_type": "stream",
     "text": [
      "Aggregate rating\n",
      "0.0    2148\n",
      "3.2     522\n",
      "3.1     519\n",
      "3.4     498\n",
      "3.3     483\n",
      "3.5     480\n",
      "3.0     468\n",
      "3.6     458\n",
      "3.7     427\n",
      "3.8     400\n",
      "2.9     381\n",
      "3.9     335\n",
      "2.8     315\n",
      "4.1     274\n",
      "4.0     266\n",
      "2.7     250\n",
      "4.2     221\n",
      "2.6     191\n",
      "4.3     174\n",
      "4.4     144\n",
      "2.5     110\n",
      "4.5      95\n",
      "2.4      87\n",
      "4.6      78\n",
      "4.9      61\n",
      "2.3      47\n",
      "4.7      42\n",
      "2.2      27\n",
      "4.8      25\n",
      "2.1      15\n",
      "2.0       7\n",
      "1.9       2\n",
      "1.8       1\n",
      "Name: count, dtype: int64\n",
      "most common rating range is : 0.0\n"
     ]
    }
   ],
   "source": [
    "# Question 1 - Analyze the distribution of aggregate ratings and determine the most common rating range.\n",
    "agg_rating_dist = data['Aggregate rating'].value_counts()\n",
    "print(agg_rating_dist)\n",
    "\n",
    "# most common rating range\n",
    "rate_rg = agg_rating_dist.idxmax()\n",
    "print(\"most common rating range is :\", rate_rg)"
   ]
  },
  {
   "cell_type": "code",
   "execution_count": 45,
   "id": "422a4171-62f4-40e4-b156-823383e56abf",
   "metadata": {},
   "outputs": [
    {
     "data": {
      "image/png": "[encoded data removed]",
      "text/plain": [
       "<Figure size 700x400 with 1 Axes>"
      ]
     },
     "metadata": {},
     "output_type": "display_data"
    }
   ],
   "source": [
    "# Histogram visualization\n",
    "plt.figure(figsize=(7, 4))\n",
    "plt.hist(data['Aggregate rating'], edgecolor = \"red\", color = 'orange', bins = 30)\n",
    "plt.title(\"Distribution of Aggregate ratings\")\n",
    "plt.xlabel(\"Aggregate Rating\")\n",
    "plt.ylabel(\"Count\")\n",
    "plt.show()"
   ]
  },
  {
   "cell_type": "code",
   "execution_count": 42,
   "id": "990de89f-2a8b-49b5-a9c7-9077ea23149b",
   "metadata": {},
   "outputs": [
    {
     "name": "stdout",
     "output_type": "stream",
     "text": [
      "156.91 is the average number of votes received by restaurants\n"
     ]
    }
   ],
   "source": [
    "                                # Question 2 - Calculate the average number of votes received by restaurants.\n",
    "\n",
    "avg_no_votes = round(data['Votes'].mean(), 2)\n",
    "print(avg_no_votes, \"is the average number of votes received by restaurants\")"
   ]
  }
 ],
 "metadata": {
  "kernelspec": {
   "display_name": "Python 3 (ipykernel)",
   "language": "python",
   "name": "python3"
  },
  "language_info": {
   "codemirror_mode": {
    "name": "ipython",
    "version": 3
   },
   "file_extension": ".py",
   "mimetype": "text/x-python",
   "name": "python",
   "nbconvert_exporter": "python",
   "pygments_lexer": "ipython3",
   "version": "3.11.4"
  }
 },
 "nbformat": 4,
 "nbformat_minor": 5
}
