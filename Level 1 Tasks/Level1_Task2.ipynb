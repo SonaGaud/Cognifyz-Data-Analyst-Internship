{
 "cells": [
  {
   "cell_type": "markdown",
   "id": "3eab5383-fd84-4b4d-aed7-790747ae864c",
   "metadata": {},
   "source": [
    "                                                         Level 1 - Task 2: City Analysis\n",
    "                                                Importing required Modules for Data Manipulation"
   ]
  },
  {
   "cell_type": "code",
   "execution_count": 6,
   "id": "586d0d49-732a-45bd-8d29-b6a97d501316",
   "metadata": {},
   "outputs": [
    {
     "name": "stdout",
     "output_type": "stream",
     "text": [
      "Imported Successfully\n"
     ]
    }
   ],
   "source": [
    "import pandas as pd\n",
    "import matplotlib.pyplot as plt\n",
    "\n",
    "print(\"Imported Successfully\")"
   ]
  },
  {
   "cell_type": "code",
   "execution_count": 7,
   "id": "64c8e663-e780-4b3d-ac35-18c9ec9f0248",
   "metadata": {},
   "outputs": [
    {
     "name": "stdout",
     "output_type": "stream",
     "text": [
      "Index(['Restaurant ID', 'Restaurant Name', 'Country Code', 'City', 'Address',\n",
      "       'Locality', 'Locality Verbose', 'Longitude', 'Latitude', 'Cuisines',\n",
      "       'Average Cost for two', 'Currency', 'Has Table booking',\n",
      "       'Has Online delivery', 'Is delivering now', 'Switch to order menu',\n",
      "       'Price range', 'Aggregate rating', 'Rating color', 'Rating text',\n",
      "       'Votes'],\n",
      "      dtype='object')\n"
     ]
    }
   ],
   "source": [
    "# Loading data from dataset\n",
    "data = pd.read_csv('Dataset.csv')\n",
    "\n",
    "# columns present in dataset\n",
    "print(data.columns)"
   ]
  },
  {
   "cell_type": "code",
   "execution_count": 15,
   "id": "29e25723-1f41-4bbd-972b-3cdba70726cf",
   "metadata": {},
   "outputs": [
    {
     "name": "stdout",
     "output_type": "stream",
     "text": [
      "City\n",
      "New Delhi       5473\n",
      "Gurgaon         1118\n",
      "Noida           1080\n",
      "Faridabad        251\n",
      "Ghaziabad         25\n",
      "Bhubaneshwar      21\n",
      "Amritsar          21\n",
      "Ahmedabad         21\n",
      "Lucknow           21\n",
      "Guwahati          21\n",
      "Name: count, dtype: int64\n",
      "The City with the highest number of restaurants is New Delhi with total 5473 restaurants\n"
     ]
    },
    {
     "data": {
      "image/png": "[encoded data removed]",
      "text/plain": [
       "<Figure size 600x300 with 1 Axes>"
      ]
     },
     "metadata": {},
     "output_type": "display_data"
    }
   ],
   "source": [
    "                            # Question 1 - Identify the city with the highest number of restaurants in the dataset.\n",
    "\n",
    "# cities with the total restaurant counts\n",
    "count_of_cities = data['City'].value_counts()\n",
    "print(count_of_cities.head(10))\n",
    "\n",
    "# City which has highest number of restaurants\n",
    "top_city = count_of_cities.idxmax()\n",
    "top_city_count = count_of_cities.max()\n",
    "print(f\"The City with the highest number of restaurants is {top_city} with total {top_city_count} restaurants\" )\n",
    "\n",
    "# Data Visualization using bar graph\n",
    "plt.figure(figsize=(6,3))\n",
    "count_of_cities.head(5).plot(kind='bar', color='skyblue')\n",
    "plt.xlabel(\"City\", fontsize=12)\n",
    "plt.ylabel(\"Number of Restaurants\", fontsize=12)\n",
    "plt.title(\"Top 5 Cities with the Most Restaurants\", fontsize=14)\n",
    "plt.xticks(rotation=0)\n",
    "plt.show()"
   ]
  },
  {
   "cell_type": "code",
   "execution_count": 16,
   "id": "3ca28bea-da04-4f77-a65c-94bed3f76c6f",
   "metadata": {},
   "outputs": [
    {
     "name": "stdout",
     "output_type": "stream",
     "text": [
      "City\n",
      "Abu Dhabi     4.300000\n",
      "Agra          3.965000\n",
      "Ahmedabad     4.161905\n",
      "Albany        3.555000\n",
      "Allahabad     3.395000\n",
      "Amritsar      3.685714\n",
      "Ankara        4.305000\n",
      "Armidale      3.500000\n",
      "Athens        4.200000\n",
      "Auckland      4.275000\n",
      "Augusta       4.130000\n",
      "Aurangabad    3.375000\n",
      "Balingup      3.200000\n",
      "Bandung       4.200000\n",
      "Bangalore     4.375000\n",
      "Name: Aggregate rating, dtype: float64\n"
     ]
    }
   ],
   "source": [
    "                              # Question 2 - Calculate the average rating for restaurants in each city.\n",
    "\n",
    "# Group by city and calculate the average rating\n",
    "city_avg_rating = data.groupby('City')['Aggregate rating'].mean()\n",
    "\n",
    "# Display first few results\n",
    "print(city_avg_rating.head(15))"
   ]
  },
  {
   "cell_type": "code",
   "execution_count": 17,
   "id": "914aacc0-8618-48ab-b18c-1591aac893a8",
   "metadata": {},
   "outputs": [
    {
     "name": "stdout",
     "output_type": "stream",
     "text": [
      "Inner City is the best rated city with highest average rating of 4.9\n"
     ]
    }
   ],
   "source": [
    "                        # Question 3 - Determine the city with the highest average rating.\n",
    "\n",
    "# Get the city with the highest average rating\n",
    "best_rated_city = city_avg_rating.idxmax()\n",
    "best_city_rating = city_avg_rating.max()\n",
    "\n",
    "print(f\"{best_rated_city} is the best rated city with highest average rating of {best_city_rating}\")"
   ]
  }
 ],
 "metadata": {
  "kernelspec": {
   "display_name": "Python 3 (ipykernel)",
   "language": "python",
   "name": "python3"
  },
  "language_info": {
   "codemirror_mode": {
    "name": "ipython",
    "version": 3
   },
   "file_extension": ".py",
   "mimetype": "text/x-python",
   "name": "python",
   "nbconvert_exporter": "python",
   "pygments_lexer": "ipython3",
   "version": "3.11.4"
  }
 },
 "nbformat": 4,
 "nbformat_minor": 5
}
